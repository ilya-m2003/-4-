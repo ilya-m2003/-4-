{
 "cells": [
  {
   "cell_type": "markdown",
   "id": "dbd7efe8",
   "metadata": {},
   "source": [
    "# 1. Подготовительный этап"
   ]
  },
  {
   "cell_type": "markdown",
   "id": "338ece9a",
   "metadata": {
    "id": "338ece9a"
   },
   "source": [
    "**Импортируем датасет в pandas.dataFrame**"
   ]
  },
  {
   "cell_type": "code",
   "execution_count": 1,
   "id": "b1fdb840",
   "metadata": {
    "colab": {
     "base_uri": "https://localhost:8080/",
     "height": 423
    },
    "id": "b1fdb840",
    "outputId": "eff3439a-9fbb-45d0-997e-a367555b83df"
   },
   "outputs": [
    {
     "data": {
      "text/html": [
       "<div>\n",
       "<style scoped>\n",
       "    .dataframe tbody tr th:only-of-type {\n",
       "        vertical-align: middle;\n",
       "    }\n",
       "\n",
       "    .dataframe tbody tr th {\n",
       "        vertical-align: top;\n",
       "    }\n",
       "\n",
       "    .dataframe thead th {\n",
       "        text-align: right;\n",
       "    }\n",
       "</style>\n",
       "<table border=\"1\" class=\"dataframe\">\n",
       "  <thead>\n",
       "    <tr style=\"text-align: right;\">\n",
       "      <th></th>\n",
       "      <th>password</th>\n",
       "      <th>strength</th>\n",
       "    </tr>\n",
       "  </thead>\n",
       "  <tbody>\n",
       "    <tr>\n",
       "      <th>0</th>\n",
       "      <td>kzde5577</td>\n",
       "      <td>1</td>\n",
       "    </tr>\n",
       "    <tr>\n",
       "      <th>1</th>\n",
       "      <td>kino3434</td>\n",
       "      <td>1</td>\n",
       "    </tr>\n",
       "    <tr>\n",
       "      <th>2</th>\n",
       "      <td>visi7k1yr</td>\n",
       "      <td>1</td>\n",
       "    </tr>\n",
       "    <tr>\n",
       "      <th>3</th>\n",
       "      <td>megzy123</td>\n",
       "      <td>1</td>\n",
       "    </tr>\n",
       "    <tr>\n",
       "      <th>4</th>\n",
       "      <td>lamborghin1</td>\n",
       "      <td>1</td>\n",
       "    </tr>\n",
       "    <tr>\n",
       "      <th>...</th>\n",
       "      <td>...</td>\n",
       "      <td>...</td>\n",
       "    </tr>\n",
       "    <tr>\n",
       "      <th>669874</th>\n",
       "      <td>10redtux10</td>\n",
       "      <td>1</td>\n",
       "    </tr>\n",
       "    <tr>\n",
       "      <th>669875</th>\n",
       "      <td>infrared1</td>\n",
       "      <td>1</td>\n",
       "    </tr>\n",
       "    <tr>\n",
       "      <th>669876</th>\n",
       "      <td>184520socram</td>\n",
       "      <td>1</td>\n",
       "    </tr>\n",
       "    <tr>\n",
       "      <th>669877</th>\n",
       "      <td>marken22a</td>\n",
       "      <td>1</td>\n",
       "    </tr>\n",
       "    <tr>\n",
       "      <th>669878</th>\n",
       "      <td>fxx4pw4g</td>\n",
       "      <td>1</td>\n",
       "    </tr>\n",
       "  </tbody>\n",
       "</table>\n",
       "<p>669879 rows × 2 columns</p>\n",
       "</div>"
      ],
      "text/plain": [
       "            password  strength\n",
       "0           kzde5577         1\n",
       "1           kino3434         1\n",
       "2          visi7k1yr         1\n",
       "3           megzy123         1\n",
       "4        lamborghin1         1\n",
       "...              ...       ...\n",
       "669874    10redtux10         1\n",
       "669875     infrared1         1\n",
       "669876  184520socram         1\n",
       "669877     marken22a         1\n",
       "669878      fxx4pw4g         1\n",
       "\n",
       "[669879 rows x 2 columns]"
      ]
     },
     "execution_count": 1,
     "metadata": {},
     "output_type": "execute_result"
    }
   ],
   "source": [
    "import pandas as pd\n",
    "\n",
    "f = open(\"data.csv\")\n",
    "d = {\"password\": [], \"strength\": []}\n",
    "\n",
    "for x in f.readlines()[1:]:\n",
    "    k = \"\".join(x.split(\",\")[:-1])\n",
    "    v = int(x.split(\",\")[-1][:-1])\n",
    "    d[\"password\"].append(k)\n",
    "    d[\"strength\"].append(v)\n",
    "    \n",
    "df = pd.DataFrame.from_dict(d)\n",
    "df"
   ]
  },
  {
   "cell_type": "code",
   "execution_count": 2,
   "id": "cf264786",
   "metadata": {
    "colab": {
     "base_uri": "https://localhost:8080/"
    },
    "id": "cf264786",
    "outputId": "5cf0dd73-e47c-415d-b5c9-600fc18a0a18"
   },
   "outputs": [
    {
     "name": "stdout",
     "output_type": "stream",
     "text": [
      "669879\n",
      "0\n",
      "0\n"
     ]
    }
   ],
   "source": [
    "print(len(df))\n",
    "print(len(df[df['password'].isnull()]))\n",
    "print(len(df[df['strength'].isnull()]))"
   ]
  },
  {
   "cell_type": "markdown",
   "id": "18926b54",
   "metadata": {},
   "source": [
    "**Количество записей датасета: 669879**\\\n",
    "**Количество отсутствующих значений в столбце password: 0**\\\n",
    "**Количество отсутствующих значений в столбце strength: 0**"
   ]
  },
  {
   "cell_type": "markdown",
   "id": "67a9962f",
   "metadata": {
    "id": "67a9962f"
   },
   "source": [
    "**Так как отсутствующих значений нет ни в одном из столбцов, очистка данных не требуется**\n",
    "\n",
    "**Атрибут password - строковое представление пароля.**\\\n",
    "**Основная его характеристика - количество символов.**\n",
    "\n",
    "**Атрибут strength - стойкость пароля ко взлому:**\\\n",
    "**0 - слабый (относительно легко взломать)**\\\n",
    "**1 - средний (стойкость средняя)**\\\n",
    "**2 - сильный (взломать сложно)**"
   ]
  },
  {
   "cell_type": "markdown",
   "id": "58a3b5c0",
   "metadata": {
    "id": "58a3b5c0"
   },
   "source": [
    "**Добавим в датасет следующие признаки:**\n",
    "\n",
    "**length - длина пароля (количество символов)**\\\n",
    "**digit - признак, отвечающий за содержание цифр в пароле (0 - нет, 1 - да)**\\\n",
    "**lower & upper - содержит ли пароль одновременно заглавные и строчные буквы (0 - нет, 1 - да)**\\\n",
    "**other symbols - содержит ли пароль особые символы (0 - нет, 1 - да)**"
   ]
  },
  {
   "cell_type": "code",
   "execution_count": 3,
   "id": "03b72789",
   "metadata": {
    "id": "03b72789"
   },
   "outputs": [],
   "source": [
    "df['length'] = df.apply(lambda x: len(x[\"password\"]), axis=1)"
   ]
  },
  {
   "cell_type": "code",
   "execution_count": 4,
   "id": "77b7e319",
   "metadata": {
    "id": "77b7e319"
   },
   "outputs": [],
   "source": [
    "def is_digit_in_password(password):\n",
    "    for x in password:\n",
    "        if x in \"0123456789\":\n",
    "            return 1\n",
    "    return 0\n",
    "df[\"digit\"] = df.apply(lambda x: is_digit_in_password(x[\"password\"]), axis=1)"
   ]
  },
  {
   "cell_type": "code",
   "execution_count": 5,
   "id": "e4aa974a",
   "metadata": {
    "id": "e4aa974a"
   },
   "outputs": [],
   "source": [
    "def lower_upper(password):\n",
    "    if not(password.lower() == password or password.upper() == password):\n",
    "        return 1\n",
    "    return 0\n",
    "df[\"lower & upper\"] = df.apply(lambda x: lower_upper(x[\"password\"]), axis=1)"
   ]
  },
  {
   "cell_type": "code",
   "execution_count": 6,
   "id": "5d7dad45",
   "metadata": {
    "id": "5d7dad45"
   },
   "outputs": [],
   "source": [
    "def other_symbols(password):\n",
    "    for x in password:\n",
    "        if x not in \"0123456789\" and x not in \"ABCDEFGHIJKLMNOPQRSTUVWXYZ\" and x not in \"ABCDEFGHIJKLMNOPQRSTUVWXYZ\".lower():\n",
    "            return 1\n",
    "    return 0\n",
    "df[\"other_symbols\"] = df.apply(lambda x: other_symbols(x[\"password\"]), axis=1)"
   ]
  },
  {
   "cell_type": "markdown",
   "id": "39678eb0",
   "metadata": {},
   "source": [
    "# 2. Анализ данных"
   ]
  },
  {
   "cell_type": "markdown",
   "id": "3bc32ec1",
   "metadata": {},
   "source": [
    "**Для наглядности выведем на экран 20 случайных записей нашего dataframe**"
   ]
  },
  {
   "cell_type": "code",
   "execution_count": 7,
   "id": "2b608804",
   "metadata": {
    "colab": {
     "base_uri": "https://localhost:8080/",
     "height": 1000
    },
    "id": "2b608804",
    "outputId": "1fbd188d-7310-4aa6-bfb4-fa0e35df0782"
   },
   "outputs": [
    {
     "data": {
      "text/html": [
       "<div>\n",
       "<style scoped>\n",
       "    .dataframe tbody tr th:only-of-type {\n",
       "        vertical-align: middle;\n",
       "    }\n",
       "\n",
       "    .dataframe tbody tr th {\n",
       "        vertical-align: top;\n",
       "    }\n",
       "\n",
       "    .dataframe thead th {\n",
       "        text-align: right;\n",
       "    }\n",
       "</style>\n",
       "<table border=\"1\" class=\"dataframe\">\n",
       "  <thead>\n",
       "    <tr style=\"text-align: right;\">\n",
       "      <th></th>\n",
       "      <th>password</th>\n",
       "      <th>strength</th>\n",
       "      <th>length</th>\n",
       "      <th>digit</th>\n",
       "      <th>lower &amp; upper</th>\n",
       "      <th>other_symbols</th>\n",
       "    </tr>\n",
       "  </thead>\n",
       "  <tbody>\n",
       "    <tr>\n",
       "      <th>322783</th>\n",
       "      <td>divorced1</td>\n",
       "      <td>1</td>\n",
       "      <td>9</td>\n",
       "      <td>1</td>\n",
       "      <td>0</td>\n",
       "      <td>0</td>\n",
       "    </tr>\n",
       "    <tr>\n",
       "      <th>350812</th>\n",
       "      <td>haktan178</td>\n",
       "      <td>1</td>\n",
       "      <td>9</td>\n",
       "      <td>1</td>\n",
       "      <td>0</td>\n",
       "      <td>0</td>\n",
       "    </tr>\n",
       "    <tr>\n",
       "      <th>90432</th>\n",
       "      <td>marios900zaf</td>\n",
       "      <td>1</td>\n",
       "      <td>12</td>\n",
       "      <td>1</td>\n",
       "      <td>0</td>\n",
       "      <td>0</td>\n",
       "    </tr>\n",
       "    <tr>\n",
       "      <th>350389</th>\n",
       "      <td>g11977407</td>\n",
       "      <td>1</td>\n",
       "      <td>9</td>\n",
       "      <td>1</td>\n",
       "      <td>0</td>\n",
       "      <td>0</td>\n",
       "    </tr>\n",
       "    <tr>\n",
       "      <th>635158</th>\n",
       "      <td>ghasem200</td>\n",
       "      <td>1</td>\n",
       "      <td>9</td>\n",
       "      <td>1</td>\n",
       "      <td>0</td>\n",
       "      <td>0</td>\n",
       "    </tr>\n",
       "    <tr>\n",
       "      <th>32297</th>\n",
       "      <td>inparadise129</td>\n",
       "      <td>1</td>\n",
       "      <td>13</td>\n",
       "      <td>1</td>\n",
       "      <td>0</td>\n",
       "      <td>0</td>\n",
       "    </tr>\n",
       "    <tr>\n",
       "      <th>632316</th>\n",
       "      <td>kUv7QezYzNwBcgbf</td>\n",
       "      <td>2</td>\n",
       "      <td>16</td>\n",
       "      <td>1</td>\n",
       "      <td>1</td>\n",
       "      <td>0</td>\n",
       "    </tr>\n",
       "    <tr>\n",
       "      <th>184037</th>\n",
       "      <td>dedicare06</td>\n",
       "      <td>1</td>\n",
       "      <td>10</td>\n",
       "      <td>1</td>\n",
       "      <td>0</td>\n",
       "      <td>0</td>\n",
       "    </tr>\n",
       "    <tr>\n",
       "      <th>544622</th>\n",
       "      <td>aQ6x9qDA5Mg03zMP</td>\n",
       "      <td>2</td>\n",
       "      <td>16</td>\n",
       "      <td>1</td>\n",
       "      <td>1</td>\n",
       "      <td>0</td>\n",
       "    </tr>\n",
       "    <tr>\n",
       "      <th>269381</th>\n",
       "      <td>mono1984</td>\n",
       "      <td>1</td>\n",
       "      <td>8</td>\n",
       "      <td>1</td>\n",
       "      <td>0</td>\n",
       "      <td>0</td>\n",
       "    </tr>\n",
       "    <tr>\n",
       "      <th>490489</th>\n",
       "      <td>123miniyator</td>\n",
       "      <td>1</td>\n",
       "      <td>12</td>\n",
       "      <td>1</td>\n",
       "      <td>0</td>\n",
       "      <td>0</td>\n",
       "    </tr>\n",
       "    <tr>\n",
       "      <th>287211</th>\n",
       "      <td>tuarejmh13</td>\n",
       "      <td>1</td>\n",
       "      <td>10</td>\n",
       "      <td>1</td>\n",
       "      <td>0</td>\n",
       "      <td>0</td>\n",
       "    </tr>\n",
       "    <tr>\n",
       "      <th>159054</th>\n",
       "      <td>bartman742</td>\n",
       "      <td>1</td>\n",
       "      <td>10</td>\n",
       "      <td>1</td>\n",
       "      <td>0</td>\n",
       "      <td>0</td>\n",
       "    </tr>\n",
       "    <tr>\n",
       "      <th>493359</th>\n",
       "      <td>xqiu10032017</td>\n",
       "      <td>1</td>\n",
       "      <td>12</td>\n",
       "      <td>1</td>\n",
       "      <td>0</td>\n",
       "      <td>0</td>\n",
       "    </tr>\n",
       "    <tr>\n",
       "      <th>466580</th>\n",
       "      <td>&lt;html&gt;13476590nosD</td>\n",
       "      <td>2</td>\n",
       "      <td>18</td>\n",
       "      <td>1</td>\n",
       "      <td>1</td>\n",
       "      <td>1</td>\n",
       "    </tr>\n",
       "    <tr>\n",
       "      <th>635302</th>\n",
       "      <td>karim82</td>\n",
       "      <td>0</td>\n",
       "      <td>7</td>\n",
       "      <td>1</td>\n",
       "      <td>0</td>\n",
       "      <td>0</td>\n",
       "    </tr>\n",
       "    <tr>\n",
       "      <th>217310</th>\n",
       "      <td>647l7tw0</td>\n",
       "      <td>1</td>\n",
       "      <td>8</td>\n",
       "      <td>1</td>\n",
       "      <td>0</td>\n",
       "      <td>0</td>\n",
       "    </tr>\n",
       "    <tr>\n",
       "      <th>410513</th>\n",
       "      <td>hmouvwt513</td>\n",
       "      <td>1</td>\n",
       "      <td>10</td>\n",
       "      <td>1</td>\n",
       "      <td>0</td>\n",
       "      <td>0</td>\n",
       "    </tr>\n",
       "    <tr>\n",
       "      <th>167154</th>\n",
       "      <td>covivyb378</td>\n",
       "      <td>1</td>\n",
       "      <td>10</td>\n",
       "      <td>1</td>\n",
       "      <td>0</td>\n",
       "      <td>0</td>\n",
       "    </tr>\n",
       "    <tr>\n",
       "      <th>558966</th>\n",
       "      <td>OLmbJozA1Mg3VLtY</td>\n",
       "      <td>2</td>\n",
       "      <td>16</td>\n",
       "      <td>1</td>\n",
       "      <td>1</td>\n",
       "      <td>0</td>\n",
       "    </tr>\n",
       "  </tbody>\n",
       "</table>\n",
       "</div>"
      ],
      "text/plain": [
       "                  password  strength  length  digit  lower & upper  \\\n",
       "322783           divorced1         1       9      1              0   \n",
       "350812           haktan178         1       9      1              0   \n",
       "90432         marios900zaf         1      12      1              0   \n",
       "350389           g11977407         1       9      1              0   \n",
       "635158           ghasem200         1       9      1              0   \n",
       "32297        inparadise129         1      13      1              0   \n",
       "632316    kUv7QezYzNwBcgbf         2      16      1              1   \n",
       "184037          dedicare06         1      10      1              0   \n",
       "544622    aQ6x9qDA5Mg03zMP         2      16      1              1   \n",
       "269381            mono1984         1       8      1              0   \n",
       "490489        123miniyator         1      12      1              0   \n",
       "287211          tuarejmh13         1      10      1              0   \n",
       "159054          bartman742         1      10      1              0   \n",
       "493359        xqiu10032017         1      12      1              0   \n",
       "466580  <html>13476590nosD         2      18      1              1   \n",
       "635302             karim82         0       7      1              0   \n",
       "217310            647l7tw0         1       8      1              0   \n",
       "410513          hmouvwt513         1      10      1              0   \n",
       "167154          covivyb378         1      10      1              0   \n",
       "558966    OLmbJozA1Mg3VLtY         2      16      1              1   \n",
       "\n",
       "        other_symbols  \n",
       "322783              0  \n",
       "350812              0  \n",
       "90432               0  \n",
       "350389              0  \n",
       "635158              0  \n",
       "32297               0  \n",
       "632316              0  \n",
       "184037              0  \n",
       "544622              0  \n",
       "269381              0  \n",
       "490489              0  \n",
       "287211              0  \n",
       "159054              0  \n",
       "493359              0  \n",
       "466580              1  \n",
       "635302              0  \n",
       "217310              0  \n",
       "410513              0  \n",
       "167154              0  \n",
       "558966              0  "
      ]
     },
     "execution_count": 7,
     "metadata": {},
     "output_type": "execute_result"
    }
   ],
   "source": [
    "df.sample(n=20)"
   ]
  },
  {
   "cell_type": "markdown",
   "id": "81135a28",
   "metadata": {},
   "source": [
    "**Признак strength - стойкость пароля ко взлому по шкале от 0 до 2.**\n",
    "\n",
    "**Изобразим на круговой диаграмме частотность каждой из оценки частотности паролей:**"
   ]
  },
  {
   "cell_type": "code",
   "execution_count": 8,
   "id": "c803a314",
   "metadata": {},
   "outputs": [
    {
     "data": {
      "image/png": "[encoded data removed]",
      "text/plain": [
       "<Figure size 432x288 with 1 Axes>"
      ]
     },
     "metadata": {},
     "output_type": "display_data"
    }
   ],
   "source": [
    "import matplotlib.pyplot as plt\n",
    "\n",
    "d0 = len(df[df[\"strength\"] == 0]) / len(df) * 100\n",
    "d1 = len(df[df[\"strength\"] == 1]) / len(df) * 100\n",
    "d2 = len(df[df[\"strength\"] == 2]) / len(df) * 100\n",
    "\n",
    "fig = plt.figure(figsize=(6, 4))\n",
    "ax = fig.add_subplot()\n",
    "vals = [d0, d1, d2]\n",
    "labels = ['''0 (слабый)\n",
    "{} %'''.format(round(d0, 2)), \n",
    "          '''1 (средний)\n",
    "{} %'''.format(round(d1, 2)), \n",
    "          '''2 (сильный)\n",
    "{} %'''.format(round(d2, 2))]\n",
    "colors = [\"#F04\", \"#EE0\", \"#0F0\"]\n",
    "ax.pie(vals, labels=labels, colors=colors)\n",
    "plt.title(\"Распределение паролей по стойкости ко взлому\")\n",
    "plt.show()"
   ]
  },
  {
   "cell_type": "markdown",
   "id": "4ddcb731",
   "metadata": {},
   "source": [
    "**Признак digit отвечает за содержание цифр в пароле (0 - нет, 1 - да).**\n",
    "\n",
    "**Изобразим на круговой диаграмме частотность паролей с цифрами и без соответственно:**"
   ]
  },
  {
   "cell_type": "code",
   "execution_count": 9,
   "id": "3ec93c30",
   "metadata": {},
   "outputs": [
    {
     "data": {
      "image/png": "[encoded data removed]",
      "text/plain": [
       "<Figure size 432x288 with 1 Axes>"
      ]
     },
     "metadata": {},
     "output_type": "display_data"
    }
   ],
   "source": [
    "d0 = len(df[df[\"digit\"] == 0]) / len(df) * 100\n",
    "d1 = len(df[df[\"digit\"] == 1]) / len(df) * 100\n",
    "\n",
    "fig = plt.figure(figsize=(6, 4))\n",
    "ax = fig.add_subplot()\n",
    "vals = [d0, d1]\n",
    "labels = ['''0 (нет цифр)\n",
    "{} %'''.format(round(d0, 2)), \n",
    "          '''1 (есть цифры)\n",
    "{} %'''.format(round(d1, 2))]\n",
    "colors = [\"#F04\", \"#0F0\"]\n",
    "ax.pie(vals, labels=labels, colors=colors)\n",
    "plt.title(\"Распределение паролей по наличию цифр\")\n",
    "plt.show()"
   ]
  },
  {
   "cell_type": "markdown",
   "id": "e1abd050",
   "metadata": {},
   "source": [
    "**Признак lower & upper - содержит ли пароль одновременно заглавные и строчные буквы (0 - нет, 1 - да)**\n",
    "\n",
    "**Изобразим на круговой диаграмме частотность паролей с буквами разных регистров и без них:**"
   ]
  },
  {
   "cell_type": "code",
   "execution_count": 10,
   "id": "ff5a5dec",
   "metadata": {},
   "outputs": [
    {
     "data": {
      "image/png": "[encoded data removed]",
      "text/plain": [
       "<Figure size 432x288 with 1 Axes>"
      ]
     },
     "metadata": {},
     "output_type": "display_data"
    }
   ],
   "source": [
    "d0 = len(df[df[\"lower & upper\"] == 0]) / len(df) * 100\n",
    "d1 = len(df[df[\"lower & upper\"] == 1]) / len(df) * 100\n",
    "\n",
    "fig = plt.figure(figsize=(6, 4))\n",
    "ax = fig.add_subplot()\n",
    "vals = [d0, d1]\n",
    "labels = ['''0 (нет букв разных регистров)\n",
    "{} %'''.format(round(d0, 2)), \n",
    "          '''1 (есть буквы разных регистров)\n",
    "{} %'''.format(round(d1, 2))]\n",
    "colors = [\"#F04\", \"#0F0\"]\n",
    "ax.pie(vals, labels=labels, colors=colors)\n",
    "plt.title(\"Распределение паролей по наличию букв разных регистров\")\n",
    "plt.show()"
   ]
  },
  {
   "cell_type": "markdown",
   "id": "b33273c5",
   "metadata": {},
   "source": [
    "**Признак other symbols - содержит ли пароль особые символы (0 - нет, 1 - да).**\n",
    "\n",
    "**Изобразим на круговой диаграмме доли паролей с особыми символами и без них соответственно**"
   ]
  },
  {
   "cell_type": "code",
   "execution_count": 11,
   "id": "a8240395",
   "metadata": {},
   "outputs": [
    {
     "data": {
      "image/png": "[encoded data removed]",
      "text/plain": [
       "<Figure size 432x288 with 1 Axes>"
      ]
     },
     "metadata": {},
     "output_type": "display_data"
    }
   ],
   "source": [
    "d0 = len(df[df[\"other_symbols\"] == 0]) / len(df) * 100\n",
    "d1 = len(df[df[\"other_symbols\"] == 1]) / len(df) * 100\n",
    "\n",
    "fig = plt.figure(figsize=(6, 4))\n",
    "ax = fig.add_subplot()\n",
    "vals = [d0, d1]\n",
    "labels = ['''0 (нет особых символов)\n",
    "{} %'''.format(round(d0, 2)), \n",
    "          '''1 (есть особые символы)\n",
    "{} %'''.format(round(d1, 2))]\n",
    "colors = [\"#F04\", \"#0F0\"]\n",
    "ax.pie(vals, labels=labels, colors=colors)\n",
    "plt.title(\"Распределение паролей по наличию букв разных регистров\")\n",
    "plt.show()"
   ]
  },
  {
   "cell_type": "markdown",
   "id": "bf38d3ff",
   "metadata": {},
   "source": [
    "**Признак length - длина пароля (количество символов).**"
   ]
  },
  {
   "cell_type": "code",
   "execution_count": 12,
   "id": "8d683052",
   "metadata": {
    "colab": {
     "base_uri": "https://localhost:8080/"
    },
    "id": "8d683052",
    "outputId": "3dca00fa-1f90-4010-81fe-879a8710fca0"
   },
   "outputs": [
    {
     "name": "stdout",
     "output_type": "stream",
     "text": [
      "1 220\n"
     ]
    }
   ],
   "source": [
    "print(df[\"length\"].min(), df[\"length\"].max())"
   ]
  },
  {
   "cell_type": "markdown",
   "id": "e1f4550f",
   "metadata": {},
   "source": [
    "**Минимальная длина паролей из выборки - 1, а максимальная - 220.**"
   ]
  },
  {
   "cell_type": "markdown",
   "id": "8d4b4aa1",
   "metadata": {
    "id": "8d4b4aa1"
   },
   "source": [
    "**Отобразим частотность использования длин паролей на диаграмме рассеяния**"
   ]
  },
  {
   "cell_type": "code",
   "execution_count": 13,
   "id": "1b9b0882",
   "metadata": {
    "colab": {
     "base_uri": "https://localhost:8080/",
     "height": 410
    },
    "id": "1b9b0882",
    "outputId": "a365632e-5402-4b7b-98c8-f14abdae8fa8"
   },
   "outputs": [
    {
     "data": {
      "image/png": "[encoded data removed]",
      "text/plain": [
       "<Figure size 504x288 with 1 Axes>"
      ]
     },
     "metadata": {
      "needs_background": "light"
     },
     "output_type": "display_data"
    }
   ],
   "source": [
    "import matplotlib.pyplot as plt\n",
    "\n",
    "length_count = list(map(lambda x: len(df[df[\"length\"] == x]), [x for x in range(1, 221)]))\n",
    "fig = plt.figure(figsize=(7, 4))\n",
    "ax = fig.add_subplot()\n",
    "plt.title(\"Частотность использования паролей разных длин\")\n",
    "plt.xlabel(\"Длина пароля length\")\n",
    "plt.ylabel(\"Число паролей в базе данных\")\n",
    "ax.semilogy([x for x in range(1, 221)], length_count, color=\"#40F\")\n",
    "ax.grid()"
   ]
  },
  {
   "cell_type": "markdown",
   "id": "4c485892",
   "metadata": {},
   "source": [
    "**По графику видно, что наиболее популярны пароли длиной около 10 символов, а пароли длиной более 60-70 символов являются аномалиями и встречаются в единичных случаях. Тем не менее, эти аномалии недостаточно велики, чтобы повлиять на статистические показатели (среднее арифметическое, медиана, мода и другие) показатели огромной выборки.\n",
    "Поэтому выбрасывать их из датасета не имеет смысла.**"
   ]
  },
  {
   "cell_type": "code",
   "execution_count": 14,
   "id": "c02607ba",
   "metadata": {
    "colab": {
     "base_uri": "https://localhost:8080/"
    },
    "id": "c02607ba",
    "outputId": "9a27f829-51c1-4f0b-bdee-a49d2219ddb3"
   },
   "outputs": [
    {
     "name": "stdout",
     "output_type": "stream",
     "text": [
      "9\n"
     ]
    }
   ],
   "source": [
    "print(length_count.index(max(length_count)) + 1)"
   ]
  },
  {
   "cell_type": "markdown",
   "id": "f29f62ba",
   "metadata": {},
   "source": [
    "**Самое популярное значение длины пароля: 9.**"
   ]
  },
  {
   "cell_type": "markdown",
   "id": "29a4939d",
   "metadata": {},
   "source": [
    "**Для большей наглядности построим ещё столбчатую диаграмму и график:**"
   ]
  },
  {
   "cell_type": "code",
   "execution_count": 15,
   "id": "42fb9404",
   "metadata": {
    "id": "42fb9404"
   },
   "outputs": [],
   "source": [
    "def probability(length):\n",
    "    c = sum(length_count[1:length + 1]) / len(df)\n",
    "    return c\n",
    "probability_list = list(map(lambda x: probability(x), [x for x in range(1, 221)]))"
   ]
  },
  {
   "cell_type": "code",
   "execution_count": 16,
   "id": "64bdb87a",
   "metadata": {},
   "outputs": [
    {
     "data": {
      "image/png": "[encoded data removed]",
      "text/plain": [
       "<Figure size 504x288 with 1 Axes>"
      ]
     },
     "metadata": {
      "needs_background": "light"
     },
     "output_type": "display_data"
    }
   ],
   "source": [
    "fig = plt.figure(figsize=(7, 4))\n",
    "ax = fig.add_subplot()\n",
    "plt.title(\"Столбчатая диаграмма (используемость паролей разных длин, %)\")\n",
    "v1 = probability(5) - probability(0)\n",
    "v2 = probability(10) - probability(5)\n",
    "v3 = probability(25) - probability(10)\n",
    "v4 = probability(50) - probability(25)\n",
    "v5 = probability(100) - probability(50)\n",
    "v6 = probability(220) - probability(100)\n",
    "values = [100 * x for x in [v1, v2, v3, v4, v5, v6]]\n",
    "labels = [\"1-5\\n{} %\".format(round(v1, 5)), \n",
    "          \"6-10\\n{} %\".format(round(v2, 5)), \n",
    "          \"11-25\\n{} %\".format(round(v3, 5)), \n",
    "          \"26-50\\n{} %\".format(round(v4, 5)), \n",
    "          \"51-100\\n{} %\".format(round(v5, 5)), \n",
    "          \"101-220\\n{} %\".format(format(v6, \"f\"))] \n",
    "ax.set_yscale('log')\n",
    "colors = [\"#F00\", \"#FF0\", \"#0F0\", \"#0FF\", \"#00F\", \"#F0F\"]\n",
    "plt.bar(labels, values, color=colors)\n",
    "plt.show()"
   ]
  },
  {
   "cell_type": "code",
   "execution_count": 17,
   "id": "97761dc5",
   "metadata": {
    "colab": {
     "base_uri": "https://localhost:8080/",
     "height": 410
    },
    "id": "97761dc5",
    "outputId": "ba096a00-e850-455a-b3d5-d73d65bc7f8a"
   },
   "outputs": [
    {
     "data": {
      "image/png": "[encoded data removed]",
      "text/plain": [
       "<Figure size 504x288 with 1 Axes>"
      ]
     },
     "metadata": {
      "needs_background": "light"
     },
     "output_type": "display_data"
    }
   ],
   "source": [
    "fig = plt.figure(figsize=(7, 4))\n",
    "ax = fig.add_subplot()\n",
    "plt.title(\"Распределение длин паролей\")\n",
    "plt.xlabel(\"Число символов n\")\n",
    "plt.ylabel(\"Вероятность того, что пароль содержит <= n символов\")\n",
    "ax.plot([x for x in range(1, 221)], probability_list, color=\"#40F\")\n",
    "ax.grid()"
   ]
  },
  {
   "cell_type": "markdown",
   "id": "3047d32b",
   "metadata": {},
   "source": [
    "**Из этих двух графиков мы можем увидеть, что основную массу (>99%) составляют пароли длиной до 25 символов включительно.**"
   ]
  },
  {
   "cell_type": "markdown",
   "id": "0be0b083",
   "metadata": {
    "id": "0be0b083"
   },
   "source": [
    "# 3. Построение простых моделей"
   ]
  },
  {
   "cell_type": "markdown",
   "id": "35fa2ddf",
   "metadata": {
    "id": "35fa2ddf"
   },
   "source": [
    "## Модель I (логистическая регрессия)"
   ]
  },
  {
   "cell_type": "markdown",
   "id": "f8f855b7",
   "metadata": {
    "id": "f8f855b7"
   },
   "source": [
    "**В этой модели мы будем использовать логистическую регрессию - один из методов классификации. Рассмотрим несколько случаев с разным набором факторов.**"
   ]
  },
  {
   "cell_type": "markdown",
   "id": "5kdaEkaJ-jmh",
   "metadata": {
    "id": "5kdaEkaJ-jmh"
   },
   "source": [
    "**Случай 1**\\\n",
    "**В качестве факторов мы выберем все 4 атрибута пароля: длина, наличие цифр, букв разного регистра и специальных символов**"
   ]
  },
  {
   "cell_type": "markdown",
   "id": "a99e9de2",
   "metadata": {
    "id": "a99e9de2"
   },
   "source": [
    "**Выделим целевую переменную и факторы**"
   ]
  },
  {
   "cell_type": "code",
   "execution_count": 18,
   "id": "a97a01a8",
   "metadata": {
    "id": "a97a01a8"
   },
   "outputs": [],
   "source": [
    "from sklearn.model_selection import train_test_split\n",
    "X = df.drop(\"strength\", axis=1).drop(\"password\", axis=1)\n",
    "Y = df.strength"
   ]
  },
  {
   "cell_type": "code",
   "execution_count": 19,
   "id": "9d8f87e1",
   "metadata": {
    "colab": {
     "base_uri": "https://localhost:8080/"
    },
    "id": "9d8f87e1",
    "outputId": "d8395633-59b7-4729-c93e-178802a2d904"
   },
   "outputs": [],
   "source": [
    "X_train, X_test, Y_train, Y_test = train_test_split(X, Y, test_size=0.2)"
   ]
  },
  {
   "cell_type": "code",
   "execution_count": 20,
   "id": "e5c6835a",
   "metadata": {
    "id": "e5c6835a"
   },
   "outputs": [],
   "source": [
    "from sklearn.linear_model import LogisticRegression\n",
    "logistic = LogisticRegression()"
   ]
  },
  {
   "cell_type": "code",
   "execution_count": 21,
   "id": "b7d0cc14",
   "metadata": {
    "colab": {
     "base_uri": "https://localhost:8080/",
     "height": 233
    },
    "id": "b7d0cc14",
    "outputId": "e5358063-cba4-432b-e70e-e3be0703b437"
   },
   "outputs": [
    {
     "name": "stdout",
     "output_type": "stream",
     "text": [
      "Wall time: 17.4 s\n"
     ]
    },
    {
     "name": "stderr",
     "output_type": "stream",
     "text": [
      "C:\\Users\\ilya-\\Anaconda3\\lib\\site-packages\\sklearn\\linear_model\\_logistic.py:763: ConvergenceWarning: lbfgs failed to converge (status=1):\n",
      "STOP: TOTAL NO. of ITERATIONS REACHED LIMIT.\n",
      "\n",
      "Increase the number of iterations (max_iter) or scale the data as shown in:\n",
      "    https://scikit-learn.org/stable/modules/preprocessing.html\n",
      "Please also refer to the documentation for alternative solver options:\n",
      "    https://scikit-learn.org/stable/modules/linear_model.html#logistic-regression\n",
      "  n_iter_i = _check_optimize_result(\n"
     ]
    },
    {
     "data": {
      "text/plain": [
       "LogisticRegression()"
      ]
     },
     "execution_count": 21,
     "metadata": {},
     "output_type": "execute_result"
    }
   ],
   "source": [
    "%%time\n",
    "logistic.fit(X_train, Y_train)"
   ]
  },
  {
   "cell_type": "code",
   "execution_count": 22,
   "id": "22b83e11",
   "metadata": {
    "id": "22b83e11"
   },
   "outputs": [],
   "source": [
    "Y_pred = logistic.predict(X_test)"
   ]
  },
  {
   "cell_type": "markdown",
   "id": "c59ad91b",
   "metadata": {},
   "source": [
    "**Здесь и далее при измерении метрик качества мы будем рассматривать 3 метрики - accuracy_score, precision_score и precision_score.**\\\n",
    "**Первая из них выдаёт значение для всего набора данных, а две последние - выдают значение для каждого класса устойчивости 0, 1, 2**"
   ]
  },
  {
   "cell_type": "code",
   "execution_count": 23,
   "id": "724cdd0a",
   "metadata": {
    "colab": {
     "base_uri": "https://localhost:8080/"
    },
    "id": "724cdd0a",
    "outputId": "fef698f9-7874-4b78-cfd5-a21288c48f8c"
   },
   "outputs": [
    {
     "name": "stdout",
     "output_type": "stream",
     "text": [
      "0.9998581835552637\n",
      "[0.99983056 0.99993972 0.99940256]\n",
      "[0.99974586 0.99990456 0.99970119]\n"
     ]
    }
   ],
   "source": [
    "from sklearn import metrics\n",
    "print(metrics.accuracy_score(Y_test, Y_pred))\n",
    "print(metrics.precision_score(Y_test, Y_pred, average=None))\n",
    "print(metrics.f1_score(Y_test, Y_pred, average=None))"
   ]
  },
  {
   "cell_type": "markdown",
   "id": "766f08b5",
   "metadata": {
    "id": "766f08b5"
   },
   "source": [
    "**Случай 2**\\\n",
    "**В качестве фактора возьмём один - длина пароля в символах.**"
   ]
  },
  {
   "cell_type": "markdown",
   "id": "0fcecc59",
   "metadata": {
    "id": "0fcecc59"
   },
   "source": [
    "**Выделим целевую переменную и факторы**"
   ]
  },
  {
   "cell_type": "code",
   "execution_count": 24,
   "id": "35dbd498",
   "metadata": {
    "id": "35dbd498"
   },
   "outputs": [],
   "source": [
    "X = df.drop(\"password\", axis=1).drop(\"strength\", axis=1).drop(\"digit\", axis=1).drop(\"lower & upper\", axis=1).drop(\"other_symbols\", axis=1)\n",
    "Y = df.strength\n",
    "X_train, X_test, Y_train, Y_test = train_test_split(X, Y, test_size=0.2)"
   ]
  },
  {
   "cell_type": "code",
   "execution_count": 25,
   "id": "6591d945",
   "metadata": {
    "id": "6591d945"
   },
   "outputs": [
    {
     "name": "stdout",
     "output_type": "stream",
     "text": [
      "Wall time: 12.8 s\n"
     ]
    },
    {
     "data": {
      "text/plain": [
       "LogisticRegression()"
      ]
     },
     "execution_count": 25,
     "metadata": {},
     "output_type": "execute_result"
    }
   ],
   "source": [
    "%%time\n",
    "logistic = LogisticRegression()\n",
    "logistic.fit(X_train, Y_train)"
   ]
  },
  {
   "cell_type": "code",
   "execution_count": 26,
   "id": "4ebdf0d4",
   "metadata": {},
   "outputs": [],
   "source": [
    "Y_pred = logistic.predict(X_test)"
   ]
  },
  {
   "cell_type": "code",
   "execution_count": 27,
   "id": "948a236d",
   "metadata": {
    "id": "948a236d"
   },
   "outputs": [
    {
     "name": "stdout",
     "output_type": "stream",
     "text": [
      "0.9998208634382277\n",
      "[1.         0.99987883 0.99928418]\n",
      "[0.99967002 0.99987883 0.99964196]\n"
     ]
    }
   ],
   "source": [
    "print(metrics.accuracy_score(Y_test, Y_pred))\n",
    "print(metrics.precision_score(Y_test, Y_pred, average=None))\n",
    "print(metrics.f1_score(Y_test, Y_pred, average=None))"
   ]
  },
  {
   "cell_type": "markdown",
   "id": "b15e6226",
   "metadata": {
    "id": "b15e6226"
   },
   "source": [
    "**Случай 3**\\\n",
    "**Попробуем в качестве фактора использовать наличие букв разных регистров**"
   ]
  },
  {
   "cell_type": "code",
   "execution_count": 28,
   "id": "c8db187b",
   "metadata": {
    "id": "c8db187b"
   },
   "outputs": [],
   "source": [
    "X = df.drop(\"password\", axis=1).drop(\"strength\", axis=1).drop(\"digit\", axis=1).drop(\"length\", axis=1).drop(\"other_symbols\", axis=1)\n",
    "Y = df.strength\n",
    "X_train, X_test, Y_train, Y_test = train_test_split(X, Y, test_size=0.2)"
   ]
  },
  {
   "cell_type": "code",
   "execution_count": 29,
   "id": "5f022dcf",
   "metadata": {
    "id": "5f022dcf"
   },
   "outputs": [
    {
     "name": "stdout",
     "output_type": "stream",
     "text": [
      "Wall time: 4.07 s\n"
     ]
    },
    {
     "data": {
      "text/plain": [
       "LogisticRegression()"
      ]
     },
     "execution_count": 29,
     "metadata": {},
     "output_type": "execute_result"
    }
   ],
   "source": [
    "%%time\n",
    "logistic = LogisticRegression()\n",
    "logistic.fit(X_train, Y_train)"
   ]
  },
  {
   "cell_type": "code",
   "execution_count": 30,
   "id": "378fac4b",
   "metadata": {
    "id": "378fac4b"
   },
   "outputs": [],
   "source": [
    "Y_pred = logistic.predict(X_test)"
   ]
  },
  {
   "cell_type": "code",
   "execution_count": 31,
   "id": "74d3eab9",
   "metadata": {},
   "outputs": [
    {
     "name": "stdout",
     "output_type": "stream",
     "text": [
      "0.8545560398877411\n",
      "[0.         0.83651123 0.99406934]\n",
      "[0.         0.91074034 0.95420707]\n"
     ]
    },
    {
     "name": "stderr",
     "output_type": "stream",
     "text": [
      "C:\\Users\\ilya-\\Anaconda3\\lib\\site-packages\\sklearn\\metrics\\_classification.py:1245: UndefinedMetricWarning: Precision is ill-defined and being set to 0.0 in labels with no predicted samples. Use `zero_division` parameter to control this behavior.\n",
      "  _warn_prf(average, modifier, msg_start, len(result))\n"
     ]
    }
   ],
   "source": [
    "print(metrics.accuracy_score(Y_test, Y_pred))\n",
    "print(metrics.precision_score(Y_test, Y_pred, average=None))\n",
    "print(metrics.f1_score(Y_test, Y_pred, average=None))"
   ]
  },
  {
   "cell_type": "markdown",
   "id": "tJk1gGO8E_zQ",
   "metadata": {
    "id": "tJk1gGO8E_zQ"
   },
   "source": [
    "**Случай 4**\\\n",
    "**Попробуем в качестве фактора использовать наличие цифр**"
   ]
  },
  {
   "cell_type": "code",
   "execution_count": 32,
   "id": "uOfW5sdVE_zQ",
   "metadata": {
    "id": "uOfW5sdVE_zQ"
   },
   "outputs": [],
   "source": [
    "X = df.drop(\"password\", axis=1).drop(\"strength\", axis=1).drop(\"lower & upper\", axis=1).drop(\"length\", axis=1).drop(\"other_symbols\", axis=1)\n",
    "Y = df.strength\n",
    "X_train, X_test, Y_train, Y_test = train_test_split(X, Y, test_size=0.2)"
   ]
  },
  {
   "cell_type": "code",
   "execution_count": 33,
   "id": "GXgPOdXDE_zQ",
   "metadata": {
    "id": "GXgPOdXDE_zQ"
   },
   "outputs": [
    {
     "name": "stdout",
     "output_type": "stream",
     "text": [
      "Wall time: 3.94 s\n"
     ]
    },
    {
     "data": {
      "text/plain": [
       "LogisticRegression()"
      ]
     },
     "execution_count": 33,
     "metadata": {},
     "output_type": "execute_result"
    }
   ],
   "source": [
    "%%time\n",
    "logistic = LogisticRegression()\n",
    "logistic.fit(X_train, Y_train)"
   ]
  },
  {
   "cell_type": "code",
   "execution_count": 34,
   "id": "d0903ece",
   "metadata": {},
   "outputs": [],
   "source": [
    "Y_pred = logistic.predict(X_test)"
   ]
  },
  {
   "cell_type": "code",
   "execution_count": 35,
   "id": "fzRxZ9ndE_zR",
   "metadata": {
    "id": "fzRxZ9ndE_zR"
   },
   "outputs": [
    {
     "name": "stdout",
     "output_type": "stream",
     "text": [
      "0.7421030632352063\n",
      "[0.         0.74210306 0.        ]\n",
      "[0.        0.8519623 0.       ]\n"
     ]
    },
    {
     "name": "stderr",
     "output_type": "stream",
     "text": [
      "C:\\Users\\ilya-\\Anaconda3\\lib\\site-packages\\sklearn\\metrics\\_classification.py:1245: UndefinedMetricWarning: Precision is ill-defined and being set to 0.0 in labels with no predicted samples. Use `zero_division` parameter to control this behavior.\n",
      "  _warn_prf(average, modifier, msg_start, len(result))\n"
     ]
    }
   ],
   "source": [
    "print(metrics.accuracy_score(Y_test, Y_pred))\n",
    "print(metrics.precision_score(Y_test, Y_pred, average=None))\n",
    "print(metrics.f1_score(Y_test, Y_pred, average=None))"
   ]
  },
  {
   "cell_type": "markdown",
   "id": "ZGXFeccXFk5r",
   "metadata": {
    "id": "ZGXFeccXFk5r"
   },
   "source": [
    "**Случай 5**\\\n",
    "**Попробуем в качестве фактора использовать наличие специальных символов**"
   ]
  },
  {
   "cell_type": "code",
   "execution_count": 36,
   "id": "HLOLZju1Fk5s",
   "metadata": {
    "id": "HLOLZju1Fk5s"
   },
   "outputs": [],
   "source": [
    "X = df.drop(\"password\", axis=1).drop(\"strength\", axis=1).drop(\"lower & upper\", axis=1).drop(\"length\", axis=1).drop(\"digit\", axis=1)\n",
    "Y = df.strength\n",
    "X_train, X_test, Y_train, Y_test = train_test_split(X, Y, test_size=0.2)"
   ]
  },
  {
   "cell_type": "code",
   "execution_count": 37,
   "id": "VbR-EnUrFk5s",
   "metadata": {
    "id": "VbR-EnUrFk5s"
   },
   "outputs": [
    {
     "name": "stdout",
     "output_type": "stream",
     "text": [
      "Wall time: 2.89 s\n"
     ]
    },
    {
     "data": {
      "text/plain": [
       "LogisticRegression()"
      ]
     },
     "execution_count": 37,
     "metadata": {},
     "output_type": "execute_result"
    }
   ],
   "source": [
    "%%time\n",
    "logistic = LogisticRegression()\n",
    "logistic.fit(X_train, Y_train)"
   ]
  },
  {
   "cell_type": "code",
   "execution_count": 38,
   "id": "d84ae1e9",
   "metadata": {},
   "outputs": [],
   "source": [
    "Y_pred = logistic.predict(X_test)"
   ]
  },
  {
   "cell_type": "code",
   "execution_count": 39,
   "id": "kEoB-R1fFk5s",
   "metadata": {
    "id": "kEoB-R1fFk5s"
   },
   "outputs": [
    {
     "name": "stdout",
     "output_type": "stream",
     "text": [
      "0.7514629485878068\n",
      "[0.         0.75570325 0.60741321]\n",
      "[0.         0.8563617  0.22672578]\n"
     ]
    },
    {
     "name": "stderr",
     "output_type": "stream",
     "text": [
      "C:\\Users\\ilya-\\Anaconda3\\lib\\site-packages\\sklearn\\metrics\\_classification.py:1245: UndefinedMetricWarning: Precision is ill-defined and being set to 0.0 in labels with no predicted samples. Use `zero_division` parameter to control this behavior.\n",
      "  _warn_prf(average, modifier, msg_start, len(result))\n"
     ]
    }
   ],
   "source": [
    "print(metrics.accuracy_score(Y_test, Y_pred))\n",
    "print(metrics.precision_score(Y_test, Y_pred, average=None))\n",
    "print(metrics.f1_score(Y_test, Y_pred, average=None))"
   ]
  },
  {
   "cell_type": "markdown",
   "id": "47e1a562",
   "metadata": {},
   "source": [
    "**Изобразим метрики accuracy_score для случаев 2-5 в виде DataFrame**"
   ]
  },
  {
   "cell_type": "code",
   "execution_count": 40,
   "id": "i_TCdKzTAd9w",
   "metadata": {
    "id": "i_TCdKzTAd9w"
   },
   "outputs": [
    {
     "data": {
      "text/html": [
       "<div>\n",
       "<style scoped>\n",
       "    .dataframe tbody tr th:only-of-type {\n",
       "        vertical-align: middle;\n",
       "    }\n",
       "\n",
       "    .dataframe tbody tr th {\n",
       "        vertical-align: top;\n",
       "    }\n",
       "\n",
       "    .dataframe thead th {\n",
       "        text-align: right;\n",
       "    }\n",
       "</style>\n",
       "<table border=\"1\" class=\"dataframe\">\n",
       "  <thead>\n",
       "    <tr style=\"text-align: right;\">\n",
       "      <th></th>\n",
       "      <th>Модель</th>\n",
       "      <th>Точность</th>\n",
       "    </tr>\n",
       "  </thead>\n",
       "  <tbody>\n",
       "    <tr>\n",
       "      <th>0</th>\n",
       "      <td>2</td>\n",
       "      <td>0.999806</td>\n",
       "    </tr>\n",
       "    <tr>\n",
       "      <th>1</th>\n",
       "      <td>3</td>\n",
       "      <td>0.854810</td>\n",
       "    </tr>\n",
       "    <tr>\n",
       "      <th>2</th>\n",
       "      <td>4</td>\n",
       "      <td>0.741304</td>\n",
       "    </tr>\n",
       "    <tr>\n",
       "      <th>3</th>\n",
       "      <td>5</td>\n",
       "      <td>0.749104</td>\n",
       "    </tr>\n",
       "  </tbody>\n",
       "</table>\n",
       "</div>"
      ],
      "text/plain": [
       "   Модель  Точность\n",
       "0       2  0.999806\n",
       "1       3  0.854810\n",
       "2       4  0.741304\n",
       "3       5  0.749104"
      ]
     },
     "execution_count": 40,
     "metadata": {},
     "output_type": "execute_result"
    }
   ],
   "source": [
    "list_accuracy = [0.9998059353914134,\n",
    "0.8548098166835851,\n",
    "0.7413044127306383,\n",
    "0.7491043171911387]\n",
    "df_accuracy = pd.DataFrame.from_dict({\"Модель\": [x for x in range(2, 6)],\n",
    "                                     \"Точность\": list_accuracy})\n",
    "df_accuracy"
   ]
  },
  {
   "cell_type": "markdown",
   "id": "e8d72f92",
   "metadata": {
    "id": "e8d72f92"
   },
   "source": [
    "**В случаях 2-5 собой однофакторную классификацию с факторами length, lower & upper, digit и other_symbols соответственно.\n",
    "Изобразим точность каждой из этих моделей (и соответствующих им факторов) на столбчатой диаграмме**"
   ]
  },
  {
   "cell_type": "code",
   "execution_count": 41,
   "id": "99591ff7",
   "metadata": {
    "id": "99591ff7",
    "outputId": "5da7f4ae-286d-47b2-9dc7-e17686e2a459"
   },
   "outputs": [
    {
     "data": {
      "text/plain": [
       "<BarContainer object of 4 artists>"
      ]
     },
     "execution_count": 41,
     "metadata": {},
     "output_type": "execute_result"
    },
    {
     "data": {
      "image/png": "[encoded data removed]",
      "text/plain": [
       "<Figure size 432x288 with 1 Axes>"
      ]
     },
     "metadata": {
      "needs_background": "light"
     },
     "output_type": "display_data"
    }
   ],
   "source": [
    "groups = [\"length\", \"lower & upper\", \"digit\", \"other_symbols\"]\n",
    "colors = [\"#00FF00\", \"#0080FF\", \"#4000FF\", \"#FF0080\"]\n",
    "plt.bar(groups, list_accuracy, color=colors)"
   ]
  },
  {
   "cell_type": "markdown",
   "id": "haMRXE-7Asz1",
   "metadata": {
    "id": "haMRXE-7Asz1"
   },
   "source": [
    "**Выяснилось, что классификация в случаях 2 и 3 (с классификацией по фактору длины пароля и наличию букв разных регистров) имеют наибольший \"процент попаданий\", а случаи 4 и 5 (с классификацией по наличию цифр и специальных символов соответственно) имеют низкую точность: классу 1 принадлежат около 74% данных, поэтому если бы мы обучили модель просто предсказывать класс 1 для каждого случая, результаты сильно бы не отличались от моделей классификаций в случаях 4 и 5.**\n",
    "\n",
    "**Поэтому рассмотрим ещё классификацию с факторами длины пароля и наличия букв разных регистров.**"
   ]
  },
  {
   "cell_type": "markdown",
   "id": "1ccdc6ce",
   "metadata": {
    "id": "1ccdc6ce"
   },
   "source": [
    "**Случай 6**\\\n",
    "**Попробуем в качестве факторов использовать длину пароля и наличиие букв разных регистров**"
   ]
  },
  {
   "cell_type": "code",
   "execution_count": 42,
   "id": "561c478c",
   "metadata": {
    "id": "561c478c"
   },
   "outputs": [],
   "source": [
    "X = df.drop(\"password\", axis=1).drop(\"strength\", axis=1).drop(\"digit\", axis=1).drop(\"other_symbols\", axis=1)\n",
    "Y = df.strength\n",
    "X_train, X_test, Y_train, Y_test = train_test_split(X, Y, test_size=0.2)\n",
    "logistic = LogisticRegression()"
   ]
  },
  {
   "cell_type": "code",
   "execution_count": 43,
   "id": "5d8b86ae",
   "metadata": {
    "id": "5d8b86ae"
   },
   "outputs": [
    {
     "name": "stdout",
     "output_type": "stream",
     "text": [
      "Wall time: 20.8 s\n"
     ]
    },
    {
     "name": "stderr",
     "output_type": "stream",
     "text": [
      "C:\\Users\\ilya-\\Anaconda3\\lib\\site-packages\\sklearn\\linear_model\\_logistic.py:763: ConvergenceWarning: lbfgs failed to converge (status=1):\n",
      "STOP: TOTAL NO. of ITERATIONS REACHED LIMIT.\n",
      "\n",
      "Increase the number of iterations (max_iter) or scale the data as shown in:\n",
      "    https://scikit-learn.org/stable/modules/preprocessing.html\n",
      "Please also refer to the documentation for alternative solver options:\n",
      "    https://scikit-learn.org/stable/modules/linear_model.html#logistic-regression\n",
      "  n_iter_i = _check_optimize_result(\n"
     ]
    },
    {
     "data": {
      "text/plain": [
       "LogisticRegression()"
      ]
     },
     "execution_count": 43,
     "metadata": {},
     "output_type": "execute_result"
    }
   ],
   "source": [
    "%%time\n",
    "logistic.fit(X_train, Y_train)"
   ]
  },
  {
   "cell_type": "code",
   "execution_count": 44,
   "id": "57220ed0",
   "metadata": {
    "id": "57220ed0"
   },
   "outputs": [],
   "source": [
    "Y_pred = logistic.predict(X_test)"
   ]
  },
  {
   "cell_type": "code",
   "execution_count": 45,
   "id": "22188c64",
   "metadata": {},
   "outputs": [
    {
     "name": "stdout",
     "output_type": "stream",
     "text": [
      "0.9999477518361498\n",
      "[0.99983321 0.99998993 0.99982065]\n",
      "[0.9998888  0.99996474 0.99991032]\n"
     ]
    }
   ],
   "source": [
    "print(metrics.accuracy_score(Y_test, Y_pred))\n",
    "print(metrics.precision_score(Y_test, Y_pred, average=None))\n",
    "print(metrics.f1_score(Y_test, Y_pred, average=None))"
   ]
  },
  {
   "cell_type": "code",
   "execution_count": 46,
   "id": "50045f1f",
   "metadata": {},
   "outputs": [
    {
     "name": "stderr",
     "output_type": "stream",
     "text": [
      "C:\\Users\\ilya-\\Anaconda3\\lib\\site-packages\\sklearn\\linear_model\\_logistic.py:763: ConvergenceWarning: lbfgs failed to converge (status=1):\n",
      "STOP: TOTAL NO. of ITERATIONS REACHED LIMIT.\n",
      "\n",
      "Increase the number of iterations (max_iter) or scale the data as shown in:\n",
      "    https://scikit-learn.org/stable/modules/preprocessing.html\n",
      "Please also refer to the documentation for alternative solver options:\n",
      "    https://scikit-learn.org/stable/modules/linear_model.html#logistic-regression\n",
      "  n_iter_i = _check_optimize_result(\n"
     ]
    },
    {
     "name": "stdout",
     "output_type": "stream",
     "text": [
      "0.9998910251468309\n"
     ]
    }
   ],
   "source": [
    "from sklearn.model_selection import cross_val_score\n",
    "scores = cross_val_score(logistic, X, Y, cv=5)\n",
    "print(scores.mean())"
   ]
  },
  {
   "cell_type": "markdown",
   "id": "6bee01ba",
   "metadata": {},
   "source": [
    "# 4. Сравнение и анализ моделей"
   ]
  },
  {
   "cell_type": "markdown",
   "id": "3fe4cf6d",
   "metadata": {},
   "source": [
    "**Теперь найдём оптимальный из этих случаев**"
   ]
  },
  {
   "cell_type": "code",
   "execution_count": 47,
   "id": "cc7e54d1",
   "metadata": {
    "colab": {
     "base_uri": "https://localhost:8080/",
     "height": 235
    },
    "id": "cc7e54d1",
    "outputId": "f524f242-5adc-47be-fcb7-d79c35efd1d7"
   },
   "outputs": [
    {
     "data": {
      "text/html": [
       "<div>\n",
       "<style scoped>\n",
       "    .dataframe tbody tr th:only-of-type {\n",
       "        vertical-align: middle;\n",
       "    }\n",
       "\n",
       "    .dataframe tbody tr th {\n",
       "        vertical-align: top;\n",
       "    }\n",
       "\n",
       "    .dataframe thead th {\n",
       "        text-align: right;\n",
       "    }\n",
       "</style>\n",
       "<table border=\"1\" class=\"dataframe\">\n",
       "  <thead>\n",
       "    <tr style=\"text-align: right;\">\n",
       "      <th></th>\n",
       "      <th>Случай №</th>\n",
       "      <th>Точность</th>\n",
       "      <th>Временные затраты</th>\n",
       "    </tr>\n",
       "  </thead>\n",
       "  <tbody>\n",
       "    <tr>\n",
       "      <th>0</th>\n",
       "      <td>1</td>\n",
       "      <td>0.999896</td>\n",
       "      <td>17.10</td>\n",
       "    </tr>\n",
       "    <tr>\n",
       "      <th>1</th>\n",
       "      <td>2</td>\n",
       "      <td>0.999806</td>\n",
       "      <td>10.50</td>\n",
       "    </tr>\n",
       "    <tr>\n",
       "      <th>2</th>\n",
       "      <td>3</td>\n",
       "      <td>0.854810</td>\n",
       "      <td>3.86</td>\n",
       "    </tr>\n",
       "    <tr>\n",
       "      <th>3</th>\n",
       "      <td>4</td>\n",
       "      <td>0.741304</td>\n",
       "      <td>3.46</td>\n",
       "    </tr>\n",
       "    <tr>\n",
       "      <th>4</th>\n",
       "      <td>5</td>\n",
       "      <td>0.749104</td>\n",
       "      <td>2.73</td>\n",
       "    </tr>\n",
       "    <tr>\n",
       "      <th>5</th>\n",
       "      <td>6</td>\n",
       "      <td>0.999888</td>\n",
       "      <td>17.00</td>\n",
       "    </tr>\n",
       "  </tbody>\n",
       "</table>\n",
       "</div>"
      ],
      "text/plain": [
       "   Случай №  Точность  Временные затраты\n",
       "0         1  0.999896              17.10\n",
       "1         2  0.999806              10.50\n",
       "2         3  0.854810               3.86\n",
       "3         4  0.741304               3.46\n",
       "4         5  0.749104               2.73\n",
       "5         6  0.999888              17.00"
      ]
     },
     "execution_count": 47,
     "metadata": {},
     "output_type": "execute_result"
    }
   ],
   "source": [
    "list_accuracy = [0.9998955036722995,\n",
    "0.9998059353914134,\n",
    "0.8548098166835851,\n",
    "0.7413044127306383,\n",
    "0.7491043171911387,\n",
    "0.9998880396488924]\n",
    "time = [17.1, 10.5, 3.86, 3.46, 2.73, 17]\n",
    "df_accuracy = pd.DataFrame.from_dict({\"Случай №\": [x for x in range(1, 7)],\n",
    "                                     \"Точность\": list_accuracy,\n",
    "                                     \"Временные затраты\": time})\n",
    "df_accuracy"
   ]
  },
  {
   "cell_type": "markdown",
   "id": "3ba0dc70",
   "metadata": {},
   "source": [
    "# 5. Выводы"
   ]
  },
  {
   "cell_type": "markdown",
   "id": "b3bbae55",
   "metadata": {
    "id": "b3bbae55"
   },
   "source": [
    "**В первом (1) случае мы получили самую высокую точность.**\\\n",
    "**Последний (6) случай крайне незначительно проигрывает по точности, и также незначительно выигрывает по времени.**\n",
    "**Поэтому для последующих моделей можно взять любой из случаев 1 и 6, я возьму 6.**"
   ]
  },
  {
   "cell_type": "markdown",
   "id": "d246b1b3",
   "metadata": {},
   "source": [
    "# 6. Построение моделей с учётом выводов"
   ]
  },
  {
   "cell_type": "markdown",
   "id": "6m5QwuKnCRmO",
   "metadata": {
    "id": "6m5QwuKnCRmO"
   },
   "source": [
    "## Модель II (метод ближайших соседей)"
   ]
  },
  {
   "cell_type": "code",
   "execution_count": 48,
   "id": "04406b6f",
   "metadata": {},
   "outputs": [],
   "source": [
    "from sklearn.neighbors import KNeighborsRegressor\n",
    "\n",
    "X = df.drop(\"password\", axis=1).drop(\"strength\", axis=1).drop(\"digit\", axis=1).drop(\"other_symbols\", axis=1)\n",
    "Y = df.strength\n",
    "X_train, X_test, Y_train, Y_test = train_test_split(X, Y, test_size=0.2)"
   ]
  },
  {
   "cell_type": "code",
   "execution_count": 80,
   "id": "9ea47f9e",
   "metadata": {
    "id": "9ea47f9e",
    "outputId": "5e8c34ed-801b-4d49-dd05-ea95376a754b",
    "scrolled": true
   },
   "outputs": [
    {
     "name": "stdout",
     "output_type": "stream",
     "text": [
      "Wall time: 53 s\n"
     ]
    },
    {
     "data": {
      "text/plain": [
       "KNeighborsRegressor()"
      ]
     },
     "execution_count": 80,
     "metadata": {},
     "output_type": "execute_result"
    }
   ],
   "source": [
    "%%time\n",
    "regressor_n = KNeighborsRegressor(n_neighbors=5)\n",
    "regressor_n.fit(X_train, Y_train)"
   ]
  },
  {
   "cell_type": "code",
   "execution_count": 50,
   "id": "72701805",
   "metadata": {
    "id": "72701805"
   },
   "outputs": [],
   "source": [
    "Y_pred = regressor_n.predict(X_test)"
   ]
  },
  {
   "cell_type": "code",
   "execution_count": 51,
   "id": "f6bb917e",
   "metadata": {
    "id": "f6bb917e",
    "outputId": "29750971-ef8c-4b07-ca12-4649f62907bf"
   },
   "outputs": [
    {
     "name": "stdout",
     "output_type": "stream",
     "text": [
      "0.9998880396488924\n",
      "[0.99994375 0.99992953 0.99958487]\n",
      "[0.99977503 0.9999245  0.99979239]\n"
     ]
    }
   ],
   "source": [
    "print(metrics.accuracy_score(list(Y_test), [int(x) for x in Y_pred]))\n",
    "print(metrics.precision_score(list(Y_test), [int(x) for x in Y_pred], average=None))\n",
    "print(metrics.f1_score(list(Y_test), [int(x) for x in Y_pred], average=None))"
   ]
  },
  {
   "cell_type": "markdown",
   "id": "WA0OAIYsCl7V",
   "metadata": {
    "id": "WA0OAIYsCl7V"
   },
   "source": [
    "## Модель III (метод опорных векторов)"
   ]
  },
  {
   "cell_type": "code",
   "execution_count": 52,
   "id": "86f5af57",
   "metadata": {},
   "outputs": [],
   "source": [
    "from sklearn.svm import SVC"
   ]
  },
  {
   "cell_type": "code",
   "execution_count": 53,
   "id": "23b31605",
   "metadata": {
    "id": "23b31605",
    "outputId": "550b9756-d10e-43eb-99bd-d56a8d1b4099"
   },
   "outputs": [
    {
     "name": "stdout",
     "output_type": "stream",
     "text": [
      "Wall time: 3.62 s\n"
     ]
    },
    {
     "data": {
      "text/plain": [
       "SVC(kernel='linear')"
      ]
     },
     "execution_count": 53,
     "metadata": {},
     "output_type": "execute_result"
    }
   ],
   "source": [
    "%%time\n",
    "svc = SVC(kernel='linear')\n",
    "svc.fit(X_train, Y_train)"
   ]
  },
  {
   "cell_type": "code",
   "execution_count": 54,
   "id": "c53fbe0b",
   "metadata": {
    "id": "c53fbe0b"
   },
   "outputs": [],
   "source": [
    "Y_pred = svc.predict(X_test)"
   ]
  },
  {
   "cell_type": "code",
   "execution_count": 55,
   "id": "7c1257cd",
   "metadata": {
    "id": "7c1257cd",
    "outputId": "dae13063-98d6-418e-ef8c-4aef9b966a7a"
   },
   "outputs": [
    {
     "name": "stdout",
     "output_type": "stream",
     "text": [
      "0.9998880396488924\n",
      "[0.99994375 0.99992953 0.99958487]\n",
      "[0.99977503 0.9999245  0.99979239]\n"
     ]
    }
   ],
   "source": [
    "print(metrics.accuracy_score(Y_test, Y_pred))\n",
    "print(metrics.precision_score(Y_test, Y_pred, average=None))\n",
    "print(metrics.f1_score(Y_test, Y_pred, average=None))"
   ]
  },
  {
   "cell_type": "markdown",
   "id": "AtyHvETpC3lQ",
   "metadata": {
    "id": "AtyHvETpC3lQ"
   },
   "source": [
    "## Модель IV (классификатор дерева решений)"
   ]
  },
  {
   "cell_type": "code",
   "execution_count": 56,
   "id": "5660ba35",
   "metadata": {},
   "outputs": [],
   "source": [
    "from sklearn.tree import DecisionTreeRegressor"
   ]
  },
  {
   "cell_type": "code",
   "execution_count": 57,
   "id": "ab2090ab",
   "metadata": {
    "id": "ab2090ab",
    "outputId": "4570eadf-be8a-4391-bab3-f15c174e6d33"
   },
   "outputs": [
    {
     "name": "stdout",
     "output_type": "stream",
     "text": [
      "Wall time: 66 ms\n"
     ]
    },
    {
     "data": {
      "text/plain": [
       "DecisionTreeRegressor()"
      ]
     },
     "execution_count": 57,
     "metadata": {},
     "output_type": "execute_result"
    }
   ],
   "source": [
    "%%time\n",
    "regressor = DecisionTreeRegressor()\n",
    "regressor.fit(X_train, Y_train)"
   ]
  },
  {
   "cell_type": "code",
   "execution_count": 58,
   "id": "740e0a18",
   "metadata": {
    "id": "740e0a18"
   },
   "outputs": [],
   "source": [
    "Y_pred = regressor.predict(X_test)"
   ]
  },
  {
   "cell_type": "code",
   "execution_count": 59,
   "id": "d0dcbf36",
   "metadata": {
    "id": "d0dcbf36",
    "outputId": "e244ddcc-b9b0-4796-ad24-11a7e75b0ead"
   },
   "outputs": [
    {
     "name": "stdout",
     "output_type": "stream",
     "text": [
      "0.29788917418045024\n",
      "[0.18419308 0.57345074 1.        ]\n",
      "[0.31108351 0.30437934 0.16823344]\n"
     ]
    }
   ],
   "source": [
    "print(metrics.accuracy_score(list(Y_test), [int(x) for x in Y_pred]))\n",
    "print(metrics.precision_score(list(Y_test), [int(x) for x in Y_pred], average=None))\n",
    "print(metrics.f1_score(list(Y_test), [int(x) for x in Y_pred], average=None))"
   ]
  },
  {
   "cell_type": "markdown",
   "id": "c0LAg5_zDAMj",
   "metadata": {
    "id": "c0LAg5_zDAMj"
   },
   "source": [
    "## Модель V (метод Случайный лес (Random Forests))"
   ]
  },
  {
   "cell_type": "code",
   "execution_count": 60,
   "id": "c3c9bcef",
   "metadata": {},
   "outputs": [],
   "source": [
    "from sklearn.ensemble import RandomForestClassifier"
   ]
  },
  {
   "cell_type": "code",
   "execution_count": 61,
   "id": "2ee20808",
   "metadata": {
    "id": "2ee20808",
    "outputId": "6e0fc46b-ff33-4bee-e231-193060ca7dc7"
   },
   "outputs": [
    {
     "name": "stdout",
     "output_type": "stream",
     "text": [
      "Wall time: 249 ms\n"
     ]
    },
    {
     "data": {
      "text/plain": [
       "RandomForestClassifier(max_depth=2, n_estimators=3, random_state=42)"
      ]
     },
     "execution_count": 61,
     "metadata": {},
     "output_type": "execute_result"
    }
   ],
   "source": [
    "%%time\n",
    "rfc = RandomForestClassifier(n_estimators=3, \n",
    "                             max_depth=2,\n",
    "                             random_state=42)\n",
    "rfc.fit(X_train, Y_train)"
   ]
  },
  {
   "cell_type": "code",
   "execution_count": 62,
   "id": "45a3b348",
   "metadata": {
    "id": "45a3b348"
   },
   "outputs": [],
   "source": [
    "Y_pred = rfc.predict(X_test)"
   ]
  },
  {
   "cell_type": "code",
   "execution_count": 63,
   "id": "c277f674",
   "metadata": {
    "id": "c277f674",
    "outputId": "fff23c61-a4e0-46c1-a894-a07b2afde2c0"
   },
   "outputs": [
    {
     "name": "stdout",
     "output_type": "stream",
     "text": [
      "0.9895429032065445\n",
      "[1.         0.98616034 0.99954798]\n",
      "[0.99949364 0.99299721 0.95723694]\n"
     ]
    }
   ],
   "source": [
    "print(metrics.accuracy_score(Y_test, Y_pred))\n",
    "print(metrics.precision_score(Y_test, Y_pred, average=None))\n",
    "print(metrics.f1_score(Y_test, Y_pred, average=None))"
   ]
  },
  {
   "cell_type": "markdown",
   "id": "PyGbQWLUDNfO",
   "metadata": {
    "id": "PyGbQWLUDNfO"
   },
   "source": [
    "## Модель VI (наивный байесовский метод (Naive Bayes))"
   ]
  },
  {
   "cell_type": "code",
   "execution_count": 64,
   "id": "e8e6aae3",
   "metadata": {},
   "outputs": [],
   "source": [
    "from sklearn.naive_bayes import MultinomialNB"
   ]
  },
  {
   "cell_type": "code",
   "execution_count": 65,
   "id": "fee7788d",
   "metadata": {
    "id": "fee7788d"
   },
   "outputs": [
    {
     "name": "stdout",
     "output_type": "stream",
     "text": [
      "Wall time: 73 ms\n"
     ]
    }
   ],
   "source": [
    "%%time\n",
    "model = MultinomialNB().fit(X_train, Y_train)"
   ]
  },
  {
   "cell_type": "code",
   "execution_count": 66,
   "id": "4e8f1a6a",
   "metadata": {
    "id": "4e8f1a6a"
   },
   "outputs": [],
   "source": [
    "Y_pred = model.predict(X_test)"
   ]
  },
  {
   "cell_type": "code",
   "execution_count": 67,
   "id": "71a72feb",
   "metadata": {
    "id": "71a72feb",
    "outputId": "38d7145a-97f1-4dc5-9b7a-1131b1a9e13f"
   },
   "outputs": [
    {
     "name": "stdout",
     "output_type": "stream",
     "text": [
      "0.8566608944885651\n",
      "[0.         0.83846888 0.99517778]\n",
      "[0.         0.91195393 0.95519625]\n"
     ]
    },
    {
     "name": "stderr",
     "output_type": "stream",
     "text": [
      "C:\\Users\\ilya-\\Anaconda3\\lib\\site-packages\\sklearn\\metrics\\_classification.py:1245: UndefinedMetricWarning: Precision is ill-defined and being set to 0.0 in labels with no predicted samples. Use `zero_division` parameter to control this behavior.\n",
      "  _warn_prf(average, modifier, msg_start, len(result))\n"
     ]
    }
   ],
   "source": [
    "print(metrics.accuracy_score(Y_test, Y_pred))\n",
    "print(metrics.precision_score(Y_test, Y_pred, average=None))\n",
    "print(metrics.f1_score(Y_test, Y_pred, average=None))"
   ]
  },
  {
   "cell_type": "markdown",
   "id": "e3015c50",
   "metadata": {},
   "source": [
    "## Модель VII (нелинейная классификация)"
   ]
  },
  {
   "cell_type": "code",
   "execution_count": 68,
   "id": "92b26022",
   "metadata": {},
   "outputs": [
    {
     "name": "stdout",
     "output_type": "stream",
     "text": [
      "Wall time: 5.54 s\n"
     ]
    },
    {
     "data": {
      "text/plain": [
       "SVC(C=10.0, gamma=0.1, random_state=1)"
      ]
     },
     "execution_count": 68,
     "metadata": {},
     "output_type": "execute_result"
    }
   ],
   "source": [
    "%%time\n",
    "svm_rbf = SVC(kernel='rbf', random_state=1, gamma=0.10, C=10.0)\n",
    "svm_rbf.fit(X_train, Y_train)"
   ]
  },
  {
   "cell_type": "code",
   "execution_count": 69,
   "id": "c253820a",
   "metadata": {},
   "outputs": [],
   "source": [
    "Y_pred = svm_rbf.predict(X_test)"
   ]
  },
  {
   "cell_type": "code",
   "execution_count": 70,
   "id": "d2127490",
   "metadata": {},
   "outputs": [
    {
     "name": "stdout",
     "output_type": "stream",
     "text": [
      "0.9998880396488924\n",
      "[0.99994375 0.99992953 0.99958487]\n",
      "[0.99977503 0.9999245  0.99979239]\n"
     ]
    }
   ],
   "source": [
    "print(metrics.accuracy_score(Y_test, Y_pred))\n",
    "print(metrics.precision_score(Y_test, Y_pred, average=None))\n",
    "print(metrics.f1_score(Y_test, Y_pred, average=None))"
   ]
  },
  {
   "cell_type": "markdown",
   "id": "0758154d",
   "metadata": {},
   "source": [
    "**Найдём cross_val_score для каждой из моделей**"
   ]
  },
  {
   "cell_type": "markdown",
   "id": "3b2230bb",
   "metadata": {},
   "source": [
    "**Модель II**"
   ]
  },
  {
   "cell_type": "code",
   "execution_count": 71,
   "id": "bd8cc8ef",
   "metadata": {},
   "outputs": [
    {
     "name": "stdout",
     "output_type": "stream",
     "text": [
      "0.9995801589842364\n"
     ]
    }
   ],
   "source": [
    "scores = cross_val_score(regressor_n, X, Y, cv=2)\n",
    "print(scores.mean())"
   ]
  },
  {
   "cell_type": "markdown",
   "id": "06de77db",
   "metadata": {},
   "source": [
    "**Модель III**"
   ]
  },
  {
   "cell_type": "code",
   "execution_count": 72,
   "id": "d0b8f1f2",
   "metadata": {},
   "outputs": [
    {
     "name": "stdout",
     "output_type": "stream",
     "text": [
      "0.9998910251468309\n"
     ]
    }
   ],
   "source": [
    "scores = cross_val_score(svc, X, Y, cv=5)\n",
    "print(scores.mean())"
   ]
  },
  {
   "cell_type": "markdown",
   "id": "96227b2b",
   "metadata": {},
   "source": [
    "**Модель IV**"
   ]
  },
  {
   "cell_type": "code",
   "execution_count": 73,
   "id": "852ba451",
   "metadata": {},
   "outputs": [
    {
     "name": "stdout",
     "output_type": "stream",
     "text": [
      "0.9996057664072968\n"
     ]
    }
   ],
   "source": [
    "scores = cross_val_score(regressor, X, Y, cv=5)\n",
    "print(scores.mean())"
   ]
  },
  {
   "cell_type": "markdown",
   "id": "af884e95",
   "metadata": {},
   "source": [
    "**Модель V**"
   ]
  },
  {
   "cell_type": "code",
   "execution_count": 74,
   "id": "db607403",
   "metadata": {},
   "outputs": [
    {
     "name": "stdout",
     "output_type": "stream",
     "text": [
      "0.9896832120049062\n"
     ]
    }
   ],
   "source": [
    "scores = cross_val_score(rfc, X, Y, cv=5)\n",
    "print(scores.mean())"
   ]
  },
  {
   "cell_type": "markdown",
   "id": "4070a286",
   "metadata": {},
   "source": [
    "**Модель VI**"
   ]
  },
  {
   "cell_type": "code",
   "execution_count": 75,
   "id": "fc7152f8",
   "metadata": {},
   "outputs": [
    {
     "name": "stdout",
     "output_type": "stream",
     "text": [
      "0.855585860203084\n"
     ]
    }
   ],
   "source": [
    "scores = cross_val_score(model, X, Y, cv=5)\n",
    "print(scores.mean())"
   ]
  },
  {
   "cell_type": "markdown",
   "id": "7e53baa0",
   "metadata": {},
   "source": [
    "**Модель VII**"
   ]
  },
  {
   "cell_type": "code",
   "execution_count": 76,
   "id": "4c9ab28e",
   "metadata": {},
   "outputs": [
    {
     "name": "stdout",
     "output_type": "stream",
     "text": [
      "0.9998910251468309\n"
     ]
    }
   ],
   "source": [
    "scores = cross_val_score(svm_rbf, X, Y, cv=5)\n",
    "print(scores.mean())"
   ]
  },
  {
   "cell_type": "markdown",
   "id": "879fbb87",
   "metadata": {},
   "source": [
    "**Изобразим для каждой модели время обучения и точность на графике**"
   ]
  },
  {
   "cell_type": "code",
   "execution_count": 81,
   "id": "1c907081",
   "metadata": {},
   "outputs": [],
   "source": [
    "time = [20.6, 52, 3.62, 0.066, 0.249, 0.073, 5.54]\n",
    "accuracy = [0.9999253597659282,\n",
    "            0.9998880396488924,\n",
    "            0.9999253597659282,\n",
    "            0.5165552039171195,\n",
    "            0.9901698811727474,\n",
    "            0.8565937182779005,\n",
    "            0.9998059353914134]"
   ]
  },
  {
   "cell_type": "code",
   "execution_count": 82,
   "id": "a0aa014f",
   "metadata": {},
   "outputs": [
    {
     "data": {
      "image/png": "[encoded data removed]",
      "text/plain": [
       "<Figure size 432x288 with 1 Axes>"
      ]
     },
     "metadata": {
      "needs_background": "light"
     },
     "output_type": "display_data"
    }
   ],
   "source": [
    "groups = [\"I\", \"II\", \"III\", \"IV\", \"V\", \"VI\", \"VII\"]\n",
    "colors = [\"#F00\", \"#FA0\", \"#FE0\", \"#0F0\", \"#0FF\", \"#50F\", \"#C0F\"]\n",
    "fig, ax = plt.subplots()\n",
    "ax.set_yscale('log')\n",
    "plt.bar(groups, time, color=colors)\n",
    "plt.title(\"Временные затраты моделей\")\n",
    "plt.show()"
   ]
  },
  {
   "cell_type": "markdown",
   "id": "687647a3",
   "metadata": {},
   "source": [
    "**Точность моделей измерим в количестве непопаданий на 100 000 случаев**"
   ]
  },
  {
   "cell_type": "code",
   "execution_count": 83,
   "id": "04b394a8",
   "metadata": {},
   "outputs": [
    {
     "data": {
      "image/png": "[encoded data removed]",
      "text/plain": [
       "<Figure size 432x288 with 1 Axes>"
      ]
     },
     "metadata": {
      "needs_background": "light"
     },
     "output_type": "display_data"
    },
    {
     "data": {
      "image/png": "[encoded data removed]",
      "text/plain": [
       "<Figure size 432x288 with 1 Axes>"
      ]
     },
     "metadata": {
      "needs_background": "light"
     },
     "output_type": "display_data"
    }
   ],
   "source": [
    "accuracy_1 = [int(100000 * (1 - x)) for x in accuracy]\n",
    "groups = [\"I\\n{}\".format(accuracy_1[0]), \n",
    "          \"II\\n{}\".format(accuracy_1[1]), \n",
    "          \"III\\n{}\".format(accuracy_1[2]), \n",
    "          \"IV\\n{}\".format(accuracy_1[3]), \n",
    "          \"V\\n{}\".format(accuracy_1[4]), \n",
    "          \"VI\\n{}\".format(accuracy_1[5]),\n",
    "          \"VII\\n{}\".format(accuracy_1[6])]\n",
    "cross_val_scores = [0.9998910251468309,\n",
    "0.9996000478896436,\n",
    "0.9998910251468309,\n",
    "0.9996057664072968,\n",
    "0.9896832120049062,\n",
    "0.855585860203084,\n",
    "0.9998328056416886]\n",
    "fig, ax = plt.subplots()\n",
    "ax.set_yscale('log')\n",
    "plt.bar(groups, accuracy_1, color=colors)\n",
    "plt.title(\"Частота непопаданий на 100 000 случаев\")\n",
    "plt.show()\n",
    "\n",
    "groups = [\"I\\n{}\".format(round(cross_val_scores[0], 5)), \n",
    "          \"II\\n{}\".format(round(cross_val_scores[1], 5)),\n",
    "          \"III\\n{}\".format(round(cross_val_scores[2], 5)),\n",
    "          \"IV\\n{}\".format(round(cross_val_scores[3], 5)),\n",
    "          \"V\\n{}\".format(round(cross_val_scores[4], 5)),\n",
    "          \"VI\\n{}\".format(round(cross_val_scores[5], 5)),\n",
    "          \"VII\\n{}\".format(round(cross_val_scores[6], 5))]\n",
    "\n",
    "fig, ax = plt.subplots()\n",
    "plt.ylim(ymax = 1, ymin = 0)\n",
    "plt.bar(groups, cross_val_scores, color=colors)\n",
    "plt.title(\"cross_val_scores\")\n",
    "plt.show()"
   ]
  },
  {
   "cell_type": "markdown",
   "id": "7b0391c5",
   "metadata": {},
   "source": [
    "# 7. Итоговый результат"
   ]
  },
  {
   "cell_type": "markdown",
   "id": "13181ae5",
   "metadata": {},
   "source": [
    "**Оптимальной моделью обучения оказалась модель III (отмечена жёлтым цветом).\\\n",
    "Её точность составляет >99.99% (менее 10 ошибок на 100 000 элементов выборки), она лидирует по метрике кросс-валидации, при этом обучение занимает всего 4.13 секунды.\n",
    "Модель I имеет такую же точность, но по времени она проигрывает - на обучение уходит 48.1 секунды.\\\n",
    "Модели II и VII проигрывают III-ей и по времени, и по точности.\\\n",
    "Модели IV, V и VI обучаются за доли секунд, но на практике они ошибаются довольно часто.\\\n",
    "Самая точная из них (V) ошибается примерно в 1% случаев, а IV и VI и вовсе не годятся для задачи классификации, так как примерно такая же точность получится, если создать модель, которая для любых значений факторов будет предсказывать значение 1 (её точность равна 74.16279656475274 %).**"
   ]
  },
  {
   "cell_type": "code",
   "execution_count": null,
   "id": "85bbb856",
   "metadata": {},
   "outputs": [],
   "source": []
  }
 ],
 "metadata": {
  "colab": {
   "provenance": []
  },
  "kernelspec": {
   "display_name": "Python 3",
   "language": "python",
   "name": "python3"
  },
  "language_info": {
   "codemirror_mode": {
    "name": "ipython",
    "version": 3
   },
   "file_extension": ".py",
   "mimetype": "text/x-python",
   "name": "python",
   "nbconvert_exporter": "python",
   "pygments_lexer": "ipython3",
   "version": "3.8.8"
  }
 },
 "nbformat": 4,
 "nbformat_minor": 5
}
